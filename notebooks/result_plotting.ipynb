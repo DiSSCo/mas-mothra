{
 "cells": [
  {
   "cell_type": "code",
   "execution_count": null,
   "metadata": {
    "collapsed": true
   },
   "outputs": [],
   "source": [
    "import pandas as pd\n",
    "import numpy as np\n",
    "import matplotlib.pyplot as plt\n",
    "%matplotlib inline  \n",
    "\n",
    "RESULTS_INPUT = 'results.csv'\n",
    "ACTUAL_INPUT = 'actual.xlsx'"
   ]
  },
  {
   "cell_type": "markdown",
   "metadata": {},
   "source": [
    "### Reading data"
   ]
  },
  {
   "cell_type": "code",
   "execution_count": null,
   "metadata": {
    "collapsed": true
   },
   "outputs": [],
   "source": [
    "actual = pd.read_excel(ACTUAL_INPUT)\n",
    "predicted = pd.read_csv(RESULTS_INPUT)\n",
    "actual = actual[['full name', 'Right', 'Left']]\n",
    "actual = actual.rename(index=str, columns={\"Right\": \"actual_right\",\n",
    "                                  \"Left\": \"actual_left\"})\n",
    "predicted = predicted.rename(index=str, columns={\"right_wing (mm)\": \"predicted_right\",\n",
    "                                     \"left_wing (mm)\": \"predicted_left\"})"
   ]
  },
  {
   "cell_type": "markdown",
   "metadata": {},
   "source": [
    "### Merging togeter \n",
    "\n",
    "Creating new columns for the difference in predicted - actual wing length"
   ]
  },
  {
   "cell_type": "code",
   "execution_count": null,
   "metadata": {
    "scrolled": true
   },
   "outputs": [],
   "source": [
    "both = pd.merge(actual, predicted, left_on = 'full name',\n",
    "                right_on = 'image_id').drop(['image_id'], axis=1)\n",
    "both['left_diff'] = both['predicted_left'] - both['actual_left']\n",
    "both['right_diff'] = both['predicted_right'] - both['actual_right']\n",
    "all_diffs = both['right_diff'].append(both['left_diff'])\n",
    "both['sum_diff'] = abs(both['right_diff']) + abs(both['left_diff'])\n",
    "both.loc[both['sum_diff'] < 4].sort_values(by=['sum_diff'], ascending=False).head()"
   ]
  },
  {
   "cell_type": "markdown",
   "metadata": {},
   "source": [
    "### Calculating stats about data \n",
    "\n",
    "Finds the mean and SD and removes all outliers (+/- 2 SD from the mean)"
   ]
  },
  {
   "cell_type": "code",
   "execution_count": null,
   "metadata": {},
   "outputs": [],
   "source": [
    "mean = np.mean(all_diffs)\n",
    "sd = np.std(all_diffs)\n",
    "lower = mean - 2 * sd\n",
    "upper = mean + 2 * sd\n",
    "print(\"Mean: {mean} SD: {sd}.\".format(mean=mean, sd=sd))\n",
    "print(\"Lower: {lower} Upper: {upper}.\".format(lower=lower, upper=upper))"
   ]
  },
  {
   "cell_type": "code",
   "execution_count": null,
   "metadata": {},
   "outputs": [],
   "source": [
    "outliers = all_diffs[(all_diffs < lower) | (all_diffs > upper)]\n",
    "print(\"Num outliers: {outliers}\".format(outliers=len(outliers)))\n",
    "all_diffs = all_diffs[(all_diffs > lower) & (all_diffs < upper)]"
   ]
  },
  {
   "cell_type": "markdown",
   "metadata": {},
   "source": [
    "### Plotting"
   ]
  },
  {
   "cell_type": "code",
   "execution_count": null,
   "metadata": {},
   "outputs": [],
   "source": [
    "fig, ax = plt.subplots(figsize=(10, 5))\n",
    "ax = all_diffs.hist(bins='auto')"
   ]
  },
  {
   "cell_type": "code",
   "execution_count": null,
   "metadata": {
    "collapsed": true
   },
   "outputs": [],
   "source": [
    "# filename = 'result_plot.png'# output_path = os.path.normpath(filename)\n",
    "# plt.xlabel('Difference between (predicted - actual) in mm')\n",
    "# start, end = ax.get_xlim()\n",
    "# plt.ylabel('Number of samples')\n",
    "# plt.title('Error in predicted length')\n",
    "# plt.savefig(output_path)\n",
    "# plt.close()"
   ]
  }
 ],
 "metadata": {
  "kernelspec": {
   "display_name": "Python 3",
   "language": "python333",
   "name": "python3"
  },
  "language_info": {
   "codemirror_mode": {
    "name": "ipython",
    "version": 3
   },
   "file_extension": ".py",
   "mimetype": "text/x-python",
   "name": "python",
   "nbconvert_exporter": "python",
   "pygments_lexer": "ipython3",
   "version": "3.6.4"
  }
 },
 "nbformat": 4,
 "nbformat_minor": 2
}
