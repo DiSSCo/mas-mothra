{
 "cells": [
  {
   "cell_type": "code",
   "execution_count": 14,
   "metadata": {
    "collapsed": true
   },
   "outputs": [],
   "source": [
    "import pandas as pd\n",
    "import numpy as np\n",
    "import matplotlib.pyplot as plt\n",
    "%matplotlib inline  \n",
    "\n",
    "RESULTS_INPUT = 'results.csv'\n",
    "ACTUAL_INPUT = 'actual.xlsx'"
   ]
  },
  {
   "cell_type": "markdown",
   "metadata": {},
   "source": [
    "### Reading data"
   ]
  },
  {
   "cell_type": "code",
   "execution_count": 15,
   "metadata": {
    "collapsed": true
   },
   "outputs": [],
   "source": [
    "actual = pd.read_excel(ACTUAL_INPUT)\n",
    "predicted = pd.read_csv(RESULTS_INPUT)\n",
    "actual = actual[['full name', 'Right', 'Left']]\n",
    "actual = actual.rename(index=str, columns={\"Right\": \"actual_right\",\n",
    "                                  \"Left\": \"actual_left\"})\n",
    "predicted = predicted.rename(index=str, columns={\"right_wing (mm)\": \"predicted_right\",\n",
    "                                     \"left_wing (mm)\": \"predicted_left\"})"
   ]
  },
  {
   "cell_type": "markdown",
   "metadata": {},
   "source": [
    "### Merging togeter \n",
    "\n",
    "Creating new columns for the difference in predicted - actual wing length"
   ]
  },
  {
   "cell_type": "code",
   "execution_count": 28,
   "metadata": {
    "scrolled": true
   },
   "outputs": [
    {
     "data": {
      "text/html": [
       "<div>\n",
       "<style scoped>\n",
       "    .dataframe tbody tr th:only-of-type {\n",
       "        vertical-align: middle;\n",
       "    }\n",
       "\n",
       "    .dataframe tbody tr th {\n",
       "        vertical-align: top;\n",
       "    }\n",
       "\n",
       "    .dataframe thead th {\n",
       "        text-align: right;\n",
       "    }\n",
       "</style>\n",
       "<table border=\"1\" class=\"dataframe\">\n",
       "  <thead>\n",
       "    <tr style=\"text-align: right;\">\n",
       "      <th></th>\n",
       "      <th>full name</th>\n",
       "      <th>actual_right</th>\n",
       "      <th>actual_left</th>\n",
       "      <th>predicted_left</th>\n",
       "      <th>predicted_right</th>\n",
       "      <th>left_diff</th>\n",
       "      <th>right_diff</th>\n",
       "      <th>sum_diff</th>\n",
       "    </tr>\n",
       "  </thead>\n",
       "  <tbody>\n",
       "    <tr>\n",
       "      <th>352</th>\n",
       "      <td>BMNHE_1355391.JPG</td>\n",
       "      <td>11.866</td>\n",
       "      <td>11.233</td>\n",
       "      <td>13.46</td>\n",
       "      <td>11.19</td>\n",
       "      <td>2.227</td>\n",
       "      <td>-0.676</td>\n",
       "      <td>2.903</td>\n",
       "    </tr>\n",
       "    <tr>\n",
       "      <th>380</th>\n",
       "      <td>BMNHE_1355482.JPG</td>\n",
       "      <td>13.271</td>\n",
       "      <td>12.985</td>\n",
       "      <td>12.40</td>\n",
       "      <td>11.02</td>\n",
       "      <td>-0.585</td>\n",
       "      <td>-2.251</td>\n",
       "      <td>2.836</td>\n",
       "    </tr>\n",
       "    <tr>\n",
       "      <th>212</th>\n",
       "      <td>BMNHE_1354037.JPG</td>\n",
       "      <td>14.890</td>\n",
       "      <td>14.138</td>\n",
       "      <td>16.47</td>\n",
       "      <td>14.64</td>\n",
       "      <td>2.332</td>\n",
       "      <td>-0.250</td>\n",
       "      <td>2.582</td>\n",
       "    </tr>\n",
       "    <tr>\n",
       "      <th>57</th>\n",
       "      <td>BMNHE_1356800.JPG</td>\n",
       "      <td>13.546</td>\n",
       "      <td>13.400</td>\n",
       "      <td>15.45</td>\n",
       "      <td>13.05</td>\n",
       "      <td>2.050</td>\n",
       "      <td>-0.496</td>\n",
       "      <td>2.546</td>\n",
       "    </tr>\n",
       "    <tr>\n",
       "      <th>434</th>\n",
       "      <td>BMNHE_1355347.JPG</td>\n",
       "      <td>13.445</td>\n",
       "      <td>13.009</td>\n",
       "      <td>12.17</td>\n",
       "      <td>12.00</td>\n",
       "      <td>-0.839</td>\n",
       "      <td>-1.445</td>\n",
       "      <td>2.284</td>\n",
       "    </tr>\n",
       "  </tbody>\n",
       "</table>\n",
       "</div>"
      ],
      "text/plain": [
       "             full name  actual_right  actual_left  predicted_left  \\\n",
       "352  BMNHE_1355391.JPG        11.866       11.233           13.46   \n",
       "380  BMNHE_1355482.JPG        13.271       12.985           12.40   \n",
       "212  BMNHE_1354037.JPG        14.890       14.138           16.47   \n",
       "57   BMNHE_1356800.JPG        13.546       13.400           15.45   \n",
       "434  BMNHE_1355347.JPG        13.445       13.009           12.17   \n",
       "\n",
       "     predicted_right  left_diff  right_diff  sum_diff  \n",
       "352            11.19      2.227      -0.676     2.903  \n",
       "380            11.02     -0.585      -2.251     2.836  \n",
       "212            14.64      2.332      -0.250     2.582  \n",
       "57             13.05      2.050      -0.496     2.546  \n",
       "434            12.00     -0.839      -1.445     2.284  "
      ]
     },
     "execution_count": 28,
     "metadata": {},
     "output_type": "execute_result"
    }
   ],
   "source": [
    "both = pd.merge(actual, predicted, left_on = 'full name',\n",
    "                right_on = 'image_id').drop(['image_id'], axis=1)\n",
    "both['left_diff'] = both['predicted_left'] - both['actual_left']\n",
    "both['right_diff'] = both['predicted_right'] - both['actual_right']\n",
    "all_diffs = both['right_diff'].append(both['left_diff'])\n",
    "both['sum_diff'] = abs(both['right_diff']) + abs(both['left_diff'])\n",
    "both.loc[both['sum_diff'] < 4].sort_values(by=['sum_diff'], ascending=False).head()"
   ]
  },
  {
   "cell_type": "markdown",
   "metadata": {},
   "source": [
    "### Calculating stats about data \n",
    "\n",
    "Finds the mean and SD and removes all outliers (+/- 2 SD from the mean)"
   ]
  },
  {
   "cell_type": "code",
   "execution_count": 18,
   "metadata": {},
   "outputs": [
    {
     "name": "stdout",
     "output_type": "stream",
     "text": [
      "Mean: -0.038746450304259654 SD: 2.160263926435517.\n",
      "Lower: -4.359274303175293 Upper: 4.281781402566774.\n"
     ]
    }
   ],
   "source": [
    "mean = np.mean(all_diffs)\n",
    "sd = np.std(all_diffs)\n",
    "lower = mean - 2 * sd\n",
    "upper = mean + 2 * sd\n",
    "print(\"Mean: {mean} SD: {sd}.\".format(mean=mean, sd=sd))\n",
    "print(\"Lower: {lower} Upper: {upper}.\".format(lower=lower, upper=upper))"
   ]
  },
  {
   "cell_type": "code",
   "execution_count": 20,
   "metadata": {},
   "outputs": [
    {
     "name": "stdout",
     "output_type": "stream",
     "text": [
      "Num outliers: 0\n"
     ]
    }
   ],
   "source": [
    "outliers = all_diffs[(all_diffs < lower) | (all_diffs > upper)]\n",
    "print(\"Num outliers: {outliers}\".format(outliers=len(outliers)))\n",
    "all_diffs = all_diffs[(all_diffs > lower) & (all_diffs < upper)]"
   ]
  },
  {
   "cell_type": "markdown",
   "metadata": {},
   "source": [
    "### Plotting"
   ]
  },
  {
   "cell_type": "code",
   "execution_count": 21,
   "metadata": {},
   "outputs": [
    {
     "data": {
      "image/png": "[encoded data removed]",
      "text/plain": [
       "<Figure size 720x360 with 1 Axes>"
      ]
     },
     "metadata": {},
     "output_type": "display_data"
    }
   ],
   "source": [
    "fig, ax = plt.subplots(figsize=(10, 5))\n",
    "ax = all_diffs.hist(bins='auto')"
   ]
  },
  {
   "cell_type": "code",
   "execution_count": 22,
   "metadata": {},
   "outputs": [],
   "source": [
    "# filename = 'result_plot.png'# output_path = os.path.normpath(filename)\n",
    "# plt.xlabel('Difference between (predicted - actual) in mm')\n",
    "# start, end = ax.get_xlim()\n",
    "# plt.ylabel('Number of samples')\n",
    "# plt.title('Error in predicted length')\n",
    "# plt.savefig(output_path)\n",
    "# plt.close()"
   ]
  }
 ],
 "metadata": {
  "kernelspec": {
   "display_name": "Python 3",
   "language": "python333",
   "name": "python3"
  },
  "language_info": {
   "codemirror_mode": {
    "name": "ipython",
    "version": 3
   },
   "file_extension": ".py",
   "mimetype": "text/x-python",
   "name": "python",
   "nbconvert_exporter": "python",
   "pygments_lexer": "ipython3",
   "version": "3.6.4"
  }
 },
 "nbformat": 4,
 "nbformat_minor": 2
}
