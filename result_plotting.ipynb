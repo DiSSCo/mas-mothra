{
 "cells": [
  {
   "cell_type": "code",
   "execution_count": 80,
   "metadata": {
    "collapsed": true
   },
   "outputs": [],
   "source": [
    "import pandas as pd\n",
    "%matplotlib inline  \n",
    "\n",
    "THRESH = 9\n",
    "OUTLIERS = 2"
   ]
  },
  {
   "cell_type": "markdown",
   "metadata": {},
   "source": [
    "## Reading in all the data"
   ]
  },
  {
   "cell_type": "code",
   "execution_count": 5,
   "metadata": {},
   "outputs": [],
   "source": [
    "actual = pd.read_excel('actual.xlsx')\n",
    "predicted = pd.read_csv('predicted.csv')"
   ]
  },
  {
   "cell_type": "code",
   "execution_count": 8,
   "metadata": {},
   "outputs": [],
   "source": [
    "actual = actual[['full name', 'Right', 'Left']]"
   ]
  },
  {
   "cell_type": "code",
   "execution_count": 63,
   "metadata": {},
   "outputs": [
    {
     "data": {
      "text/html": [
       "<div>\n",
       "<style scoped>\n",
       "    .dataframe tbody tr th:only-of-type {\n",
       "        vertical-align: middle;\n",
       "    }\n",
       "\n",
       "    .dataframe tbody tr th {\n",
       "        vertical-align: top;\n",
       "    }\n",
       "\n",
       "    .dataframe thead th {\n",
       "        text-align: right;\n",
       "    }\n",
       "</style>\n",
       "<table border=\"1\" class=\"dataframe\">\n",
       "  <thead>\n",
       "    <tr style=\"text-align: right;\">\n",
       "      <th></th>\n",
       "      <th>full name</th>\n",
       "      <th>Right</th>\n",
       "      <th>Left</th>\n",
       "    </tr>\n",
       "  </thead>\n",
       "  <tbody>\n",
       "    <tr>\n",
       "      <th>322</th>\n",
       "      <td>BMNHE_1353198.JPG</td>\n",
       "      <td>11.982</td>\n",
       "      <td>10.181</td>\n",
       "    </tr>\n",
       "    <tr>\n",
       "      <th>330</th>\n",
       "      <td>BMNHE_1355296.JPG</td>\n",
       "      <td>11.390</td>\n",
       "      <td>10.682</td>\n",
       "    </tr>\n",
       "    <tr>\n",
       "      <th>305</th>\n",
       "      <td>BMNHE_1355340.JPG</td>\n",
       "      <td>12.664</td>\n",
       "      <td>10.967</td>\n",
       "    </tr>\n",
       "    <tr>\n",
       "      <th>331</th>\n",
       "      <td>BMNHE_1355377.JPG</td>\n",
       "      <td>11.952</td>\n",
       "      <td>11.121</td>\n",
       "    </tr>\n",
       "    <tr>\n",
       "      <th>352</th>\n",
       "      <td>BMNHE_1355391.JPG</td>\n",
       "      <td>11.866</td>\n",
       "      <td>11.233</td>\n",
       "    </tr>\n",
       "  </tbody>\n",
       "</table>\n",
       "</div>"
      ],
      "text/plain": [
       "             full name   Right    Left\n",
       "322  BMNHE_1353198.JPG  11.982  10.181\n",
       "330  BMNHE_1355296.JPG  11.390  10.682\n",
       "305  BMNHE_1355340.JPG  12.664  10.967\n",
       "331  BMNHE_1355377.JPG  11.952  11.121\n",
       "352  BMNHE_1355391.JPG  11.866  11.233"
      ]
     },
     "execution_count": 63,
     "metadata": {},
     "output_type": "execute_result"
    }
   ],
   "source": [
    "actual.sort_values(['Left']).head()"
   ]
  },
  {
   "cell_type": "code",
   "execution_count": 56,
   "metadata": {},
   "outputs": [
    {
     "data": {
      "text/html": [
       "<div>\n",
       "<style scoped>\n",
       "    .dataframe tbody tr th:only-of-type {\n",
       "        vertical-align: middle;\n",
       "    }\n",
       "\n",
       "    .dataframe tbody tr th {\n",
       "        vertical-align: top;\n",
       "    }\n",
       "\n",
       "    .dataframe thead th {\n",
       "        text-align: right;\n",
       "    }\n",
       "</style>\n",
       "<table border=\"1\" class=\"dataframe\">\n",
       "  <thead>\n",
       "    <tr style=\"text-align: right;\">\n",
       "      <th></th>\n",
       "      <th>image_id</th>\n",
       "      <th>left_wing (mm)</th>\n",
       "      <th>right_wing (mm)</th>\n",
       "    </tr>\n",
       "  </thead>\n",
       "  <tbody>\n",
       "    <tr>\n",
       "      <th>112</th>\n",
       "      <td>BMNHE_1353953.JPG</td>\n",
       "      <td>0.51</td>\n",
       "      <td>6.63</td>\n",
       "    </tr>\n",
       "    <tr>\n",
       "      <th>234</th>\n",
       "      <td>BMNHE_1361681.JPG</td>\n",
       "      <td>0.75</td>\n",
       "      <td>6.01</td>\n",
       "    </tr>\n",
       "    <tr>\n",
       "      <th>161</th>\n",
       "      <td>BMNHE_1355357.JPG</td>\n",
       "      <td>0.76</td>\n",
       "      <td>2.84</td>\n",
       "    </tr>\n",
       "    <tr>\n",
       "      <th>87</th>\n",
       "      <td>BMNHE_1355367.JPG</td>\n",
       "      <td>0.82</td>\n",
       "      <td>6.19</td>\n",
       "    </tr>\n",
       "    <tr>\n",
       "      <th>418</th>\n",
       "      <td>BMNHE_1353922.JPG</td>\n",
       "      <td>1.83</td>\n",
       "      <td>5.92</td>\n",
       "    </tr>\n",
       "  </tbody>\n",
       "</table>\n",
       "</div>"
      ],
      "text/plain": [
       "              image_id  left_wing (mm)  right_wing (mm)\n",
       "112  BMNHE_1353953.JPG            0.51             6.63\n",
       "234  BMNHE_1361681.JPG            0.75             6.01\n",
       "161  BMNHE_1355357.JPG            0.76             2.84\n",
       "87   BMNHE_1355367.JPG            0.82             6.19\n",
       "418  BMNHE_1353922.JPG            1.83             5.92"
      ]
     },
     "execution_count": 56,
     "metadata": {},
     "output_type": "execute_result"
    }
   ],
   "source": [
    "predicted.sort_values(['left_wing (mm)']).head()"
   ]
  },
  {
   "cell_type": "markdown",
   "metadata": {},
   "source": [
    "### Taking all rows that need to be doubled and doubling them into a new dataframe, doubles"
   ]
  },
  {
   "cell_type": "code",
   "execution_count": 53,
   "metadata": {},
   "outputs": [
    {
     "name": "stderr",
     "output_type": "stream",
     "text": [
      "/Users/Sera/anaconda/envs/dev3/lib/python3.6/site-packages/ipykernel_launcher.py:4: SettingWithCopyWarning: \n",
      "A value is trying to be set on a copy of a slice from a DataFrame.\n",
      "Try using .loc[row_indexer,col_indexer] = value instead\n",
      "\n",
      "See the caveats in the documentation: http://pandas.pydata.org/pandas-docs/stable/indexing.html#indexing-view-versus-copy\n",
      "  after removing the cwd from sys.path.\n",
      "/Users/Sera/anaconda/envs/dev3/lib/python3.6/site-packages/ipykernel_launcher.py:5: SettingWithCopyWarning: \n",
      "A value is trying to be set on a copy of a slice from a DataFrame.\n",
      "Try using .loc[row_indexer,col_indexer] = value instead\n",
      "\n",
      "See the caveats in the documentation: http://pandas.pydata.org/pandas-docs/stable/indexing.html#indexing-view-versus-copy\n",
      "  \"\"\"\n"
     ]
    },
    {
     "data": {
      "text/html": [
       "<div>\n",
       "<style scoped>\n",
       "    .dataframe tbody tr th:only-of-type {\n",
       "        vertical-align: middle;\n",
       "    }\n",
       "\n",
       "    .dataframe tbody tr th {\n",
       "        vertical-align: top;\n",
       "    }\n",
       "\n",
       "    .dataframe thead th {\n",
       "        text-align: right;\n",
       "    }\n",
       "</style>\n",
       "<table border=\"1\" class=\"dataframe\">\n",
       "  <thead>\n",
       "    <tr style=\"text-align: right;\">\n",
       "      <th></th>\n",
       "      <th>image_id</th>\n",
       "      <th>left_wing (mm)</th>\n",
       "      <th>right_wing (mm)</th>\n",
       "    </tr>\n",
       "  </thead>\n",
       "  <tbody>\n",
       "    <tr>\n",
       "      <th>112</th>\n",
       "      <td>BMNHE_1353953.JPG</td>\n",
       "      <td>1.02</td>\n",
       "      <td>13.26</td>\n",
       "    </tr>\n",
       "    <tr>\n",
       "      <th>234</th>\n",
       "      <td>BMNHE_1361681.JPG</td>\n",
       "      <td>1.50</td>\n",
       "      <td>12.02</td>\n",
       "    </tr>\n",
       "    <tr>\n",
       "      <th>161</th>\n",
       "      <td>BMNHE_1355357.JPG</td>\n",
       "      <td>1.52</td>\n",
       "      <td>5.68</td>\n",
       "    </tr>\n",
       "    <tr>\n",
       "      <th>87</th>\n",
       "      <td>BMNHE_1355367.JPG</td>\n",
       "      <td>1.64</td>\n",
       "      <td>12.38</td>\n",
       "    </tr>\n",
       "    <tr>\n",
       "      <th>418</th>\n",
       "      <td>BMNHE_1353922.JPG</td>\n",
       "      <td>3.66</td>\n",
       "      <td>11.84</td>\n",
       "    </tr>\n",
       "  </tbody>\n",
       "</table>\n",
       "</div>"
      ],
      "text/plain": [
       "              image_id  left_wing (mm)  right_wing (mm)\n",
       "112  BMNHE_1353953.JPG            1.02            13.26\n",
       "234  BMNHE_1361681.JPG            1.50            12.02\n",
       "161  BMNHE_1355357.JPG            1.52             5.68\n",
       "87   BMNHE_1355367.JPG            1.64            12.38\n",
       "418  BMNHE_1353922.JPG            3.66            11.84"
      ]
     },
     "execution_count": 53,
     "metadata": {},
     "output_type": "execute_result"
    }
   ],
   "source": [
    "mod_pred = predicted\n",
    "\n",
    "doubles = mod_pred.loc[(mod_pred['left_wing (mm)'] < THRESH) & (mod_pred['right_wing (mm)'] < THRESH)]\n",
    "doubles['left_wing (mm)'] = doubles['left_wing (mm)'] * 2\n",
    "doubles['right_wing (mm)'] = doubles['right_wing (mm)'] * 2\n",
    "doubles.sort_values(['left_wing (mm)']).head()"
   ]
  },
  {
   "cell_type": "markdown",
   "metadata": {},
   "source": [
    "### Keeping only the previous rows where either value doesn't need to be doubled"
   ]
  },
  {
   "cell_type": "code",
   "execution_count": 54,
   "metadata": {},
   "outputs": [
    {
     "data": {
      "text/html": [
       "<div>\n",
       "<style scoped>\n",
       "    .dataframe tbody tr th:only-of-type {\n",
       "        vertical-align: middle;\n",
       "    }\n",
       "\n",
       "    .dataframe tbody tr th {\n",
       "        vertical-align: top;\n",
       "    }\n",
       "\n",
       "    .dataframe thead th {\n",
       "        text-align: right;\n",
       "    }\n",
       "</style>\n",
       "<table border=\"1\" class=\"dataframe\">\n",
       "  <thead>\n",
       "    <tr style=\"text-align: right;\">\n",
       "      <th></th>\n",
       "      <th>image_id</th>\n",
       "      <th>left_wing (mm)</th>\n",
       "      <th>right_wing (mm)</th>\n",
       "    </tr>\n",
       "  </thead>\n",
       "  <tbody>\n",
       "    <tr>\n",
       "      <th>484</th>\n",
       "      <td>BMNHE_1354038.JPG</td>\n",
       "      <td>5.51</td>\n",
       "      <td>12.85</td>\n",
       "    </tr>\n",
       "    <tr>\n",
       "      <th>21</th>\n",
       "      <td>BMNHE_1354229.JPG</td>\n",
       "      <td>6.70</td>\n",
       "      <td>11.16</td>\n",
       "    </tr>\n",
       "    <tr>\n",
       "      <th>89</th>\n",
       "      <td>BMNHE_1354122.JPG</td>\n",
       "      <td>7.69</td>\n",
       "      <td>12.30</td>\n",
       "    </tr>\n",
       "    <tr>\n",
       "      <th>77</th>\n",
       "      <td>BMNHE_1353912.JPG</td>\n",
       "      <td>8.20</td>\n",
       "      <td>14.25</td>\n",
       "    </tr>\n",
       "    <tr>\n",
       "      <th>480</th>\n",
       "      <td>BMNHE_1353218.JPG</td>\n",
       "      <td>8.25</td>\n",
       "      <td>12.33</td>\n",
       "    </tr>\n",
       "  </tbody>\n",
       "</table>\n",
       "</div>"
      ],
      "text/plain": [
       "              image_id  left_wing (mm)  right_wing (mm)\n",
       "484  BMNHE_1354038.JPG            5.51            12.85\n",
       "21   BMNHE_1354229.JPG            6.70            11.16\n",
       "89   BMNHE_1354122.JPG            7.69            12.30\n",
       "77   BMNHE_1353912.JPG            8.20            14.25\n",
       "480  BMNHE_1353218.JPG            8.25            12.33"
      ]
     },
     "execution_count": 54,
     "metadata": {},
     "output_type": "execute_result"
    }
   ],
   "source": [
    "mod_pred = mod_pred[(mod_pred['left_wing (mm)'] > THRESH) | (mod_pred['right_wing (mm)'] > THRESH)]\n",
    "mod_pred.sort_values(['left_wing (mm)']).head()"
   ]
  },
  {
   "cell_type": "code",
   "execution_count": 57,
   "metadata": {},
   "outputs": [
    {
     "data": {
      "text/html": [
       "<div>\n",
       "<style scoped>\n",
       "    .dataframe tbody tr th:only-of-type {\n",
       "        vertical-align: middle;\n",
       "    }\n",
       "\n",
       "    .dataframe tbody tr th {\n",
       "        vertical-align: top;\n",
       "    }\n",
       "\n",
       "    .dataframe thead th {\n",
       "        text-align: right;\n",
       "    }\n",
       "</style>\n",
       "<table border=\"1\" class=\"dataframe\">\n",
       "  <thead>\n",
       "    <tr style=\"text-align: right;\">\n",
       "      <th></th>\n",
       "      <th>image_id</th>\n",
       "      <th>left_wing (mm)</th>\n",
       "      <th>right_wing (mm)</th>\n",
       "    </tr>\n",
       "  </thead>\n",
       "  <tbody>\n",
       "    <tr>\n",
       "      <th>112</th>\n",
       "      <td>BMNHE_1353953.JPG</td>\n",
       "      <td>1.02</td>\n",
       "      <td>13.26</td>\n",
       "    </tr>\n",
       "    <tr>\n",
       "      <th>234</th>\n",
       "      <td>BMNHE_1361681.JPG</td>\n",
       "      <td>1.50</td>\n",
       "      <td>12.02</td>\n",
       "    </tr>\n",
       "    <tr>\n",
       "      <th>161</th>\n",
       "      <td>BMNHE_1355357.JPG</td>\n",
       "      <td>1.52</td>\n",
       "      <td>5.68</td>\n",
       "    </tr>\n",
       "    <tr>\n",
       "      <th>87</th>\n",
       "      <td>BMNHE_1355367.JPG</td>\n",
       "      <td>1.64</td>\n",
       "      <td>12.38</td>\n",
       "    </tr>\n",
       "    <tr>\n",
       "      <th>418</th>\n",
       "      <td>BMNHE_1353922.JPG</td>\n",
       "      <td>3.66</td>\n",
       "      <td>11.84</td>\n",
       "    </tr>\n",
       "  </tbody>\n",
       "</table>\n",
       "</div>"
      ],
      "text/plain": [
       "              image_id  left_wing (mm)  right_wing (mm)\n",
       "112  BMNHE_1353953.JPG            1.02            13.26\n",
       "234  BMNHE_1361681.JPG            1.50            12.02\n",
       "161  BMNHE_1355357.JPG            1.52             5.68\n",
       "87   BMNHE_1355367.JPG            1.64            12.38\n",
       "418  BMNHE_1353922.JPG            3.66            11.84"
      ]
     },
     "execution_count": 57,
     "metadata": {},
     "output_type": "execute_result"
    }
   ],
   "source": [
    "new_pred = pd.concat([mod_pred, doubles])\n",
    "new_pred.sort_values(['left_wing (mm)']).head()"
   ]
  },
  {
   "cell_type": "markdown",
   "metadata": {},
   "source": [
    "### Merging them together and creating new columns for the difference between predicted and actual"
   ]
  },
  {
   "cell_type": "code",
   "execution_count": 58,
   "metadata": {
    "collapsed": true
   },
   "outputs": [],
   "source": [
    "og = pd.merge(actual, mod_pred, left_on = 'full name', right_on = 'image_id').drop(['image_id'], axis=1)\n",
    "both = og"
   ]
  },
  {
   "cell_type": "code",
   "execution_count": 59,
   "metadata": {},
   "outputs": [
    {
     "data": {
      "text/html": [
       "<div>\n",
       "<style scoped>\n",
       "    .dataframe tbody tr th:only-of-type {\n",
       "        vertical-align: middle;\n",
       "    }\n",
       "\n",
       "    .dataframe tbody tr th {\n",
       "        vertical-align: top;\n",
       "    }\n",
       "\n",
       "    .dataframe thead th {\n",
       "        text-align: right;\n",
       "    }\n",
       "</style>\n",
       "<table border=\"1\" class=\"dataframe\">\n",
       "  <thead>\n",
       "    <tr style=\"text-align: right;\">\n",
       "      <th></th>\n",
       "      <th>full name</th>\n",
       "      <th>Right</th>\n",
       "      <th>Left</th>\n",
       "      <th>left_wing (mm)</th>\n",
       "      <th>right_wing (mm)</th>\n",
       "    </tr>\n",
       "  </thead>\n",
       "  <tbody>\n",
       "    <tr>\n",
       "      <th>0</th>\n",
       "      <td>BMNHE_1353957.JPG</td>\n",
       "      <td>16.341</td>\n",
       "      <td>16.578</td>\n",
       "      <td>16.05</td>\n",
       "      <td>15.94</td>\n",
       "    </tr>\n",
       "    <tr>\n",
       "      <th>1</th>\n",
       "      <td>BMNHE_1354081.JPG</td>\n",
       "      <td>13.779</td>\n",
       "      <td>13.255</td>\n",
       "      <td>12.95</td>\n",
       "      <td>13.33</td>\n",
       "    </tr>\n",
       "    <tr>\n",
       "      <th>2</th>\n",
       "      <td>BMNHE_1354038.JPG</td>\n",
       "      <td>13.468</td>\n",
       "      <td>13.562</td>\n",
       "      <td>5.51</td>\n",
       "      <td>12.85</td>\n",
       "    </tr>\n",
       "    <tr>\n",
       "      <th>3</th>\n",
       "      <td>BMNHE_1355503.JPG</td>\n",
       "      <td>14.401</td>\n",
       "      <td>14.122</td>\n",
       "      <td>13.31</td>\n",
       "      <td>14.20</td>\n",
       "    </tr>\n",
       "    <tr>\n",
       "      <th>4</th>\n",
       "      <td>BMNHE_1355402.JPG</td>\n",
       "      <td>15.122</td>\n",
       "      <td>14.994</td>\n",
       "      <td>14.06</td>\n",
       "      <td>14.58</td>\n",
       "    </tr>\n",
       "  </tbody>\n",
       "</table>\n",
       "</div>"
      ],
      "text/plain": [
       "           full name   Right    Left  left_wing (mm)  right_wing (mm)\n",
       "0  BMNHE_1353957.JPG  16.341  16.578           16.05            15.94\n",
       "1  BMNHE_1354081.JPG  13.779  13.255           12.95            13.33\n",
       "2  BMNHE_1354038.JPG  13.468  13.562            5.51            12.85\n",
       "3  BMNHE_1355503.JPG  14.401  14.122           13.31            14.20\n",
       "4  BMNHE_1355402.JPG  15.122  14.994           14.06            14.58"
      ]
     },
     "execution_count": 59,
     "metadata": {},
     "output_type": "execute_result"
    }
   ],
   "source": [
    "both.head()"
   ]
  },
  {
   "cell_type": "code",
   "execution_count": 60,
   "metadata": {},
   "outputs": [],
   "source": [
    "both['left_diff'] = both['Left'] - both['left_wing (mm)']\n",
    "both['right_diff'] = both['Right'] - both['right_wing (mm)']"
   ]
  },
  {
   "cell_type": "code",
   "execution_count": 61,
   "metadata": {},
   "outputs": [
    {
     "data": {
      "text/html": [
       "<div>\n",
       "<style scoped>\n",
       "    .dataframe tbody tr th:only-of-type {\n",
       "        vertical-align: middle;\n",
       "    }\n",
       "\n",
       "    .dataframe tbody tr th {\n",
       "        vertical-align: top;\n",
       "    }\n",
       "\n",
       "    .dataframe thead th {\n",
       "        text-align: right;\n",
       "    }\n",
       "</style>\n",
       "<table border=\"1\" class=\"dataframe\">\n",
       "  <thead>\n",
       "    <tr style=\"text-align: right;\">\n",
       "      <th></th>\n",
       "      <th>full name</th>\n",
       "      <th>Right</th>\n",
       "      <th>Left</th>\n",
       "      <th>left_wing (mm)</th>\n",
       "      <th>right_wing (mm)</th>\n",
       "      <th>left_diff</th>\n",
       "      <th>right_diff</th>\n",
       "    </tr>\n",
       "  </thead>\n",
       "  <tbody>\n",
       "    <tr>\n",
       "      <th>0</th>\n",
       "      <td>BMNHE_1353957.JPG</td>\n",
       "      <td>16.341</td>\n",
       "      <td>16.578</td>\n",
       "      <td>16.05</td>\n",
       "      <td>15.94</td>\n",
       "      <td>0.528</td>\n",
       "      <td>0.401</td>\n",
       "    </tr>\n",
       "    <tr>\n",
       "      <th>1</th>\n",
       "      <td>BMNHE_1354081.JPG</td>\n",
       "      <td>13.779</td>\n",
       "      <td>13.255</td>\n",
       "      <td>12.95</td>\n",
       "      <td>13.33</td>\n",
       "      <td>0.305</td>\n",
       "      <td>0.449</td>\n",
       "    </tr>\n",
       "    <tr>\n",
       "      <th>2</th>\n",
       "      <td>BMNHE_1354038.JPG</td>\n",
       "      <td>13.468</td>\n",
       "      <td>13.562</td>\n",
       "      <td>5.51</td>\n",
       "      <td>12.85</td>\n",
       "      <td>8.052</td>\n",
       "      <td>0.618</td>\n",
       "    </tr>\n",
       "    <tr>\n",
       "      <th>3</th>\n",
       "      <td>BMNHE_1355503.JPG</td>\n",
       "      <td>14.401</td>\n",
       "      <td>14.122</td>\n",
       "      <td>13.31</td>\n",
       "      <td>14.20</td>\n",
       "      <td>0.812</td>\n",
       "      <td>0.201</td>\n",
       "    </tr>\n",
       "    <tr>\n",
       "      <th>4</th>\n",
       "      <td>BMNHE_1355402.JPG</td>\n",
       "      <td>15.122</td>\n",
       "      <td>14.994</td>\n",
       "      <td>14.06</td>\n",
       "      <td>14.58</td>\n",
       "      <td>0.934</td>\n",
       "      <td>0.542</td>\n",
       "    </tr>\n",
       "  </tbody>\n",
       "</table>\n",
       "</div>"
      ],
      "text/plain": [
       "           full name   Right    Left  left_wing (mm)  right_wing (mm)  \\\n",
       "0  BMNHE_1353957.JPG  16.341  16.578           16.05            15.94   \n",
       "1  BMNHE_1354081.JPG  13.779  13.255           12.95            13.33   \n",
       "2  BMNHE_1354038.JPG  13.468  13.562            5.51            12.85   \n",
       "3  BMNHE_1355503.JPG  14.401  14.122           13.31            14.20   \n",
       "4  BMNHE_1355402.JPG  15.122  14.994           14.06            14.58   \n",
       "\n",
       "   left_diff  right_diff  \n",
       "0      0.528       0.401  \n",
       "1      0.305       0.449  \n",
       "2      8.052       0.618  \n",
       "3      0.812       0.201  \n",
       "4      0.934       0.542  "
      ]
     },
     "execution_count": 61,
     "metadata": {},
     "output_type": "execute_result"
    }
   ],
   "source": [
    "both.head()"
   ]
  },
  {
   "cell_type": "code",
   "execution_count": 82,
   "metadata": {
    "collapsed": true
   },
   "outputs": [],
   "source": [
    "all_diffs = both['right_diff'].append(both['left_diff'])"
   ]
  },
  {
   "cell_type": "markdown",
   "metadata": {},
   "source": [
    "### Outliers"
   ]
  },
  {
   "cell_type": "code",
   "execution_count": 83,
   "metadata": {
    "scrolled": true
   },
   "outputs": [
    {
     "data": {
      "text/plain": [
       "6       7.188\n",
       "30     11.480\n",
       "49      7.397\n",
       "82      2.983\n",
       "91      9.359\n",
       "98      6.854\n",
       "99      8.393\n",
       "2       8.052\n",
       "12      3.350\n",
       "31      4.547\n",
       "33      6.113\n",
       "52      3.450\n",
       "63      4.595\n",
       "70      5.196\n",
       "100   -11.401\n",
       "103     3.674\n",
       "dtype: float64"
      ]
     },
     "execution_count": 83,
     "metadata": {},
     "output_type": "execute_result"
    }
   ],
   "source": [
    "outliers = all_diffs[(all_diffs < -OUTLIERS) | (all_diffs > OUTLIERS)]\n",
    "outliers"
   ]
  },
  {
   "cell_type": "code",
   "execution_count": 84,
   "metadata": {},
   "outputs": [],
   "source": [
    "all_diffs = all_diffs[(all_diffs > -OUTLIERS) & (all_diffs < OUTLIERS)]"
   ]
  },
  {
   "cell_type": "code",
   "execution_count": 86,
   "metadata": {},
   "outputs": [
    {
     "data": {
      "text/plain": [
       "<matplotlib.axes._subplots.AxesSubplot at 0x110e69748>"
      ]
     },
     "execution_count": 86,
     "metadata": {},
     "output_type": "execute_result"
    },
    {
     "data": {
      "image/png": "[encoded data removed]",
      "text/plain": [
       "<Figure size 432x288 with 1 Axes>"
      ]
     },
     "metadata": {},
     "output_type": "display_data"
    }
   ],
   "source": [
    "all_diffs.hist()"
   ]
  },
  {
   "cell_type": "code",
   "execution_count": null,
   "metadata": {
    "collapsed": true
   },
   "outputs": [],
   "source": []
  }
 ],
 "metadata": {
  "kernelspec": {
   "display_name": "Python 3",
   "language": "python333",
   "name": "python3"
  },
  "language_info": {
   "codemirror_mode": {
    "name": "ipython",
    "version": 3
   },
   "file_extension": ".py",
   "mimetype": "text/x-python",
   "name": "python",
   "nbconvert_exporter": "python",
   "pygments_lexer": "ipython3",
   "version": "3.6.4"
  }
 },
 "nbformat": 4,
 "nbformat_minor": 2
}
